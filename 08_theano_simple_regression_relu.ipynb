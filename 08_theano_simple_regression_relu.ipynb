{
 "cells": [
  {
   "cell_type": "markdown",
   "metadata": {},
   "source": [
    "# <center> Simple function regression </center>\n",
    "\n",
    "## Neural Network Scratch\n",
    "\n",
    "<img src=\"images/regr.png\" width = \"50%\">\n",
    "\n",
    "* Why 2 hidden layers? No idea, it just works better this way. I guess playing with learning rate, sample size and training steps would allow to run the same with just one hidden layer."
   ]
  },
  {
   "cell_type": "markdown",
   "metadata": {},
   "source": [
    "## Imports"
   ]
  },
  {
   "cell_type": "code",
   "execution_count": 7,
   "metadata": {
    "collapsed": true
   },
   "outputs": [],
   "source": [
    "%matplotlib inline\n",
    "\n",
    "import theano\n",
    "import theano.tensor as T\n",
    "import theano.tensor.nnet as nnet\n",
    "import numpy\n",
    "import matplotlib.pyplot as plt\n",
    "from mpl_toolkits.mplot3d import Axes3D\n",
    "\n",
    "rng = numpy.random # random number generator"
   ]
  },
  {
   "cell_type": "markdown",
   "metadata": {},
   "source": [
    "## Settings"
   ]
  },
  {
   "cell_type": "code",
   "execution_count": 8,
   "metadata": {
    "collapsed": true
   },
   "outputs": [],
   "source": [
    "### NET ###\n",
    "\n",
    "N = 1000           # number learning of samples\n",
    "nTrainSteps = 100  # number of training steps\n",
    "alpha = 0.1        # learning rate\n",
    "nTestSamples = 100 # number of testing samples\n",
    "\n",
    "### FUNCTION ###\n",
    "\n",
    "def f (x): # function to find\n",
    "  return x**2\n",
    "\n",
    "# xrange for f(x)\n",
    "\n",
    "minX = -10\n",
    "maxX = 10"
   ]
  },
  {
   "cell_type": "markdown",
   "metadata": {},
   "source": [
    "## Generate training sample"
   ]
  },
  {
   "cell_type": "code",
   "execution_count": 9,
   "metadata": {
    "collapsed": false
   },
   "outputs": [],
   "source": [
    "def randomX(n, a = minX, b = maxX): # n random number in the range [a,b]\n",
    "    return ((b - a) * rng.sample(n) + a)\n",
    "\n",
    "# generate training sample\n",
    "\n",
    "X = randomX (N)       # random points [minX,maxX]\n",
    "Y = [f(x) for x in X] # value of f\n",
    "\n",
    "# normalize training sample\n",
    "\n",
    "minY = min(Y) # minimum f(x) in the given x range\n",
    "maxY = max(Y) # maximum f(x) in the given x range\n",
    "\n",
    "def scale (x, a = minY, b = maxY): # scale from [a, b] to [0, 1] range\n",
    "    return (x - a) / (b - a)\n",
    "\n",
    "def scaleBack (x, a = minY, b = maxY): # scale from [0, 1] to [a, b]\n",
    "    return (b - a) * x + a\n",
    "\n",
    "Yn = [scale(y) for y in Y] # [minY, maxY] -> [0, 1], beacuse sigmoid in [0,1]"
   ]
  },
  {
   "cell_type": "markdown",
   "metadata": {},
   "source": [
    "## Plot training sample"
   ]
  },
  {
   "cell_type": "code",
   "execution_count": 10,
   "metadata": {
    "collapsed": false
   },
   "outputs": [
    {
     "data": {
      "image/png": "[encoded data removed]",
      "text/plain": [
       "<matplotlib.figure.Figure at 0x7f8d044e06d0>"
      ]
     },
     "metadata": {},
     "output_type": "display_data"
    }
   ],
   "source": [
    "fig, plots = plt.subplots(1,2) # create a 1x2 grid of plots\n",
    "\n",
    "fig.set_size_inches((2, 1) * fig.get_size_inches()) # double horizontal size of figure\n",
    "\n",
    "# training sample\n",
    "\n",
    "plots[0].set_title('Training sample')\n",
    "plots[0].set_xlabel('x')\n",
    "plots[0].set_ylabel('y')\n",
    "\n",
    "plots[0].plot(X, Y, 'b.')\n",
    "\n",
    "# normalized training sample\n",
    "\n",
    "plots[1].set_title('Normalized training sample')\n",
    "plots[1].set_xlabel('x')\n",
    "plots[1].set_ylabel('y')\n",
    "\n",
    "plots[1].plot(X, Yn, 'g.')\n",
    "\n",
    "plt.show()"
   ]
  },
  {
   "cell_type": "markdown",
   "metadata": {},
   "source": [
    "## Learn net"
   ]
  },
  {
   "cell_type": "code",
   "execution_count": 11,
   "metadata": {
    "collapsed": false
   },
   "outputs": [],
   "source": [
    "###### SYMBOLIC VARIABLES ###\n",
    "\n",
    "x = T.vector('x') # input\n",
    "y = T.scalar('y') # expected value\n",
    "\n",
    "w1 = theano.shared(rng.rand(2,2), name = 'w1') # first hidden layer's weights (including bias)\n",
    "w2 = theano.shared(rng.rand(3,2), name = 'w2') # second hidden layer's weights (including bias)\n",
    "w3 = theano.shared(rng.rand(3), name = 'w3')   # output layer's weights (including bias)\n",
    "\n",
    "### EXPRESSION GRAPH ###\n",
    "\n",
    "def hlayer (x, w): # relu for hidden layers\n",
    "    b = numpy.array([1])      # bias term\n",
    "    xb = T.concatenate([x,b]) # input x with bias added\n",
    "    return nnet.relu(T.dot(w.T,xb))\n",
    "\n",
    "def layer (x, w): # sigmoid for output layer\n",
    "    b = numpy.array([1])      # bias term\n",
    "    xb = T.concatenate([x,b]) # input x with bias added\n",
    "    return nnet.sigmoid(T.dot(w.T,xb))\n",
    "\n",
    "hiddenLayer  = hlayer (x, w1)                 # hidden layer 1\n",
    "hiddenLayer2 = hlayer (hiddenLayer, w2)       # hidden layer 2\n",
    "outputLayer  = T.sum(layer(hiddenLayer2, w3)) # output layer\n",
    "\n",
    "cost = (outputLayer - y)**2                   # cost function\n",
    "\n",
    "def gradient (c, w):                 # cost function, weights\n",
    "    return w - alpha * T.grad (c, w) # update weights\n",
    "\n",
    "### COMPILE ###\n",
    "\n",
    "train = theano.function(inputs = [x,y],\n",
    "                        outputs = cost,\n",
    "                        updates = [(w1, gradient(cost, w1)),\n",
    "                                   (w2, gradient(cost, w2)),\n",
    "                                   (w3, gradient(cost, w3))])\n",
    "\n",
    "predict = theano.function(inputs=[x], outputs=outputLayer)\n",
    "\n",
    "### TRAIN ###\n",
    "\n",
    "for i in range (nTrainSteps):\n",
    "    for j in range(N):\n",
    "        c = train([X[j]], Yn[j]) "
   ]
  },
  {
   "cell_type": "markdown",
   "metadata": {},
   "source": [
    "## Test net"
   ]
  },
  {
   "cell_type": "code",
   "execution_count": 14,
   "metadata": {
    "collapsed": false
   },
   "outputs": [
    {
     "data": {
      "image/png": "[encoded data removed]",
      "text/plain": [
       "<matplotlib.figure.Figure at 0x7f8d0bacf210>"
      ]
     },
     "metadata": {},
     "output_type": "display_data"
    }
   ],
   "source": [
    "# prepare testing sample\n",
    "\n",
    "test = (randomX(nTestSamples)) # random x values\n",
    "test.sort()                    # sorted x values\n",
    "\n",
    "expected  = [f(t) for t in test]                    # expexted values for test points\n",
    "predicted = [scaleBack(predict([t])) for t in test] # predicited values for test points\n",
    "\n",
    "plt.xlabel('x')\n",
    "plt.ylabel('y')\n",
    "plt.plot(test, expected, 'b', label = 'Expected')\n",
    "plt.plot(test, predicted, 'r', label = 'Predicted')\n",
    "\n",
    "plt.legend(loc=0) # legend in center\n",
    "\n",
    "plt.show()"
   ]
  }
 ],
 "metadata": {
  "kernelspec": {
   "display_name": "Python 2",
   "language": "python",
   "name": "python2"
  },
  "language_info": {
   "codemirror_mode": {
    "name": "ipython",
    "version": 2
   },
   "file_extension": ".py",
   "mimetype": "text/x-python",
   "name": "python",
   "nbconvert_exporter": "python",
   "pygments_lexer": "ipython2",
   "version": "2.7.6"
  }
 },
 "nbformat": 4,
 "nbformat_minor": 0
}
