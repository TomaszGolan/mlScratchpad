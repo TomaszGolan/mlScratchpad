{
 "cells": [
  {
   "cell_type": "markdown",
   "metadata": {},
   "source": [
    "# <center> AND gate </center>\n",
    "\n",
    "| x | y | x AND y|\n",
    "|:-:|:-:|:------:|\n",
    "| 0 | 0 | 0 |\n",
    "| 1 | 0 | 0 |\n",
    "| 0 | 1 | 0 |\n",
    "| 1 | 1 | 1 |\n",
    "\n",
    "## Neural Network Scratch\n",
    "\n",
    "<img src=\"images/and.png\" width = \"50%\">\n",
    "\n",
    "* Hypothesis = logistic function: $h(x) = \\frac{1}{1 + e^{-w^Tx}}$\n",
    "* Intuition: $w_0 < 0$, $w_0 + w_1 < 0$, $w_0 + w_2 < 0$, $w_0 + w_1 + w_2 > 0$\n",
    "\n",
    "## Check intuition"
   ]
  },
  {
   "cell_type": "code",
   "execution_count": 136,
   "metadata": {
    "collapsed": false
   },
   "outputs": [
    {
     "name": "stdout",
     "output_type": "stream",
     "text": [
      "0 AND 0 = 0.000000\n",
      "0 AND 1 = 0.000000\n",
      "1 AND 0 = 0.000000\n",
      "1 AND 1 = 1.000000\n"
     ]
    }
   ],
   "source": [
    "from math import exp\n",
    "\n",
    "### BY HAND WEIGHTS ###\n",
    "\n",
    "w0 = -300\n",
    "w1 = 200\n",
    "w2 = 200\n",
    "\n",
    "### LOGISTIC FUNCTION ###\n",
    "\n",
    "def h(x1, x2):\n",
    "    return 1 / (1 + exp(-w0 - w1 * x1 - w2 * x2))\n",
    "\n",
    "### TRAINING SET ###\n",
    "\n",
    "X = [[0,0], [0,1], [1,0], [1,1]] # input\n",
    "Y = [0, 0, 0, 1]                 # expected output\n",
    "\n",
    "### TEST ###\n",
    "\n",
    "for x in X: print '%d AND %d = %f' % (x[0], x[1], h(x[0], x[1]))"
   ]
  },
  {
   "cell_type": "markdown",
   "metadata": {},
   "source": [
    "## Build network in Theano"
   ]
  },
  {
   "cell_type": "code",
   "execution_count": 137,
   "metadata": {
    "collapsed": false
   },
   "outputs": [],
   "source": [
    "### IMPORTS ###\n",
    "\n",
    "import theano\n",
    "import theano.tensor as T\n",
    "import theano.tensor.nnet as nnet\n",
    "import numpy\n",
    "\n",
    "rng = numpy.random # random number generator\n",
    "\n",
    "### SETTINGS ###\n",
    "\n",
    "nTrainSteps = 1000 # number of training steps\n",
    "\n",
    "alpha = 1.0 # learning rate\n",
    "\n",
    "### SYMBOLIC VARIABLES ###\n",
    "\n",
    "x = T.vector('x') # input\n",
    "y = T.scalar('y') # expected value\n",
    "\n",
    "w = theano.shared(rng.randn(2), name = 'w') # 2 weights initialized randomly\n",
    "b = theano.shared(rng.randn(), name = 'b')  # bias term (w_0)\n",
    "\n",
    "### EXPRESSION GRAPH ###\n",
    "\n",
    "layer1 = nnet.sigmoid(T.dot(x,w) + b) # input layer\n",
    "layer2 = T.sum(layer1)                # output layer\n",
    "cost = (layer2 - y)**2                # cost function\n",
    "gw, gb = T.grad(cost, [w,b])          # gradients\n",
    "\n",
    "### COMPILE ###\n",
    "\n",
    "train = theano.function(inputs = [x,y],\n",
    "                        outputs = cost,\n",
    "                        updates = ((w, w - alpha * gw), (b, b - alpha * gb)))\n",
    "\n",
    "predict = theano.function(inputs=[x], outputs=layer2)\n",
    "\n",
    "### TRAIN ###\n",
    "\n",
    "costs   = [] # value of cost function in each training step\n",
    "weights = [] # value of weights in each training step\n",
    "bias    = [] # value of bias term in each training step\n",
    "\n",
    "for i in range (nTrainSteps):\n",
    "    # train net using each element from X\n",
    "    for j in range(4): c = train(X[j], Y[j])\n",
    "    # save progress to plot them later\n",
    "    costs.append(train(X[j], Y[j]))\n",
    "    weights.append(w.get_value())\n",
    "    bias.append(b.get_value())"
   ]
  },
  {
   "cell_type": "markdown",
   "metadata": {},
   "source": [
    "## Plot results"
   ]
  },
  {
   "cell_type": "code",
   "execution_count": 138,
   "metadata": {
    "collapsed": false
   },
   "outputs": [
    {
     "data": {
      "image/png": "[encoded data removed]",
      "text/plain": [
       "<matplotlib.figure.Figure at 0x7f5c3ff00f90>"
      ]
     },
     "metadata": {},
     "output_type": "display_data"
    }
   ],
   "source": [
    "%matplotlib inline\n",
    "\n",
    "import matplotlib.pyplot as plt\n",
    "\n",
    "### PLOT RESULTS ###\n",
    "\n",
    "fig, plots = plt.subplots(2,2) # create a 2x2 grid of plots\n",
    "fig.set_size_inches((2, 2) * fig.get_size_inches()) # double size of figure\n",
    "\n",
    "steps = [] # just ints from 0 to nTrainStep\n",
    "steps.extend(range(0,nTrainSteps))\n",
    "\n",
    "### PLOT COST FUNCTION ###\n",
    "\n",
    "plots[0][0].set_xlabel('Training step')\n",
    "plots[0][0].set_ylabel('Cost function')\n",
    "\n",
    "plots[0][0].set_ylim([0.0001, 0.1])\n",
    "plots[0][0].set_yscale('log')\n",
    "plots[0][0].plot(steps, costs, 'g,')\n",
    "\n",
    "### PLOT BIAS TERM ###\n",
    "\n",
    "plots[0][1].set_xlabel('Training step')\n",
    "plots[0][1].set_ylabel('w0')\n",
    "plots[0][1].plot(steps, bias, 'r,')\n",
    "\n",
    "### PLOT WEIGHTS ###\n",
    "\n",
    "w1 = [w[0] for w in weights]\n",
    "w2 = [w[1] for w in weights]\n",
    "\n",
    "plots[1][0].set_xlabel('Training step')\n",
    "plots[1][0].set_ylabel('w1')\n",
    "plots[1][0].plot(steps, w1, 'r,')\n",
    "\n",
    "plots[1][1].set_xlabel('Training step')\n",
    "plots[1][1].set_ylabel('w2')\n",
    "plots[1][1].plot(steps, w2, 'r,')\n",
    "\n",
    "plt.show()"
   ]
  },
  {
   "cell_type": "markdown",
   "metadata": {},
   "source": [
    "## Test"
   ]
  },
  {
   "cell_type": "code",
   "execution_count": 139,
   "metadata": {
    "collapsed": false
   },
   "outputs": [
    {
     "name": "stdout",
     "output_type": "stream",
     "text": [
      "0 AND 0 = 0.000049\n",
      "0 AND 1 = 0.037579\n",
      "1 AND 0 = 0.037703\n",
      "1 AND 1 = 0.968906\n"
     ]
    }
   ],
   "source": [
    "### TEST ###        \n",
    "\n",
    "for x in X: print '%d AND %d = %f' % (x[0], x[1], predict(x))"
   ]
  }
 ],
 "metadata": {
  "kernelspec": {
   "display_name": "Python 2",
   "language": "python",
   "name": "python2"
  },
  "language_info": {
   "codemirror_mode": {
    "name": "ipython",
    "version": 2
   },
   "file_extension": ".py",
   "mimetype": "text/x-python",
   "name": "python",
   "nbconvert_exporter": "python",
   "pygments_lexer": "ipython2",
   "version": "2.7.6"
  }
 },
 "nbformat": 4,
 "nbformat_minor": 0
}
