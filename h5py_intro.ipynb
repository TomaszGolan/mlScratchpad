{
 "cells": [
  {
   "cell_type": "code",
   "execution_count": 1,
   "metadata": {
    "collapsed": false
   },
   "outputs": [
    {
     "name": "stdout",
     "output_type": "stream",
     "text": [
      "(100,) int32 /integers\n"
     ]
    }
   ],
   "source": [
    "import h5py\n",
    "import numpy as np\n",
    "\n",
    "f = h5py.File(\"h5py_test.hdf5\", \"w\")\n",
    "\n",
    "dset = f.create_dataset(\"integers\", (100,), dtype='i')\n",
    "\n",
    "print dset.shape, dset.dtype, dset.name"
   ]
  },
  {
   "cell_type": "code",
   "execution_count": 2,
   "metadata": {
    "collapsed": false
   },
   "outputs": [
    {
     "name": "stdout",
     "output_type": "stream",
     "text": [
      "[0 0 0 0 0 0 0 0 0 0 0 0 0 0 0 0 0 0 0 0 0 0 0 0 0 0 0 0 0 0 0 0 0 0 0 0 0\n",
      " 0 0 0 0 0 0 0 0 0 0 0 0 0 0 0 0 0 0 0 0 0 0 0 0 0 0 0 0 0 0 0 0 0 0 0 0 0\n",
      " 0 0 0 0 0 0 0 0 0 0 0 0 0 0 0 0 0 0 0 0 0 0 0 0 0 0]\n"
     ]
    }
   ],
   "source": [
    "print dset[...]"
   ]
  },
  {
   "cell_type": "code",
   "execution_count": 3,
   "metadata": {
    "collapsed": false
   },
   "outputs": [
    {
     "name": "stdout",
     "output_type": "stream",
     "text": [
      "[5 7 4 1 7 1 6 7 2 4 9 5 0 1 1 1 3 3 8 6 6 9 1 1 4 9 6 9 8 2 2 2 8 5 7 9 5\n",
      " 7 6 5 0 9 3 7 6 2 8 8 4 9 2 0 4 5 1 7 3 9 3 4 3 3 8 5 6 0 4 4 8 9 4 7 1 0\n",
      " 6 4 1 9 2 9 8 4 7 1 3 6 8 5 5 2 8 7 8 7 9 5 4 8 0 0]\n"
     ]
    }
   ],
   "source": [
    "dset[...] = np.random.randint(low=0, high=10, size=100)\n",
    "\n",
    "print dset[...]"
   ]
  },
  {
   "cell_type": "code",
   "execution_count": 4,
   "metadata": {
    "collapsed": false
   },
   "outputs": [
    {
     "name": "stdout",
     "output_type": "stream",
     "text": [
      "(50,) float32 /floats\n"
     ]
    }
   ],
   "source": [
    "dset = f.create_dataset(\"floats\", (50,), dtype='f')\n",
    "\n",
    "print dset.shape, dset.dtype, dset.name"
   ]
  },
  {
   "cell_type": "code",
   "execution_count": 5,
   "metadata": {
    "collapsed": false
   },
   "outputs": [
    {
     "name": "stdout",
     "output_type": "stream",
     "text": [
      "[ 0.56679457  0.37209648  0.34750098  0.85618246  0.15082587  0.40323839\n",
      "  0.34138358  0.25600278  0.59936416  0.03657122  0.68550497  0.51260823\n",
      "  0.35694665  0.43675604  0.77137071  0.91766381  0.91814971  0.46444732\n",
      "  0.81910759  0.72812629  0.20075174  0.37215182  0.957766    0.47339073\n",
      "  0.91799277  0.09943197  0.32643157  0.04007467  0.84630442  0.09612206\n",
      "  0.73970944  0.09048117  0.22065164  0.83212143  0.11776669  0.75757885\n",
      "  0.33096406  0.61065912  0.28889886  0.89264458  0.19888629  0.82382607\n",
      "  0.3016876   0.24525431  0.81562477  0.69584781  0.18184493  0.83030939\n",
      "  0.80080354  0.19113518]\n"
     ]
    }
   ],
   "source": [
    "dset[...] = np.random.sample(50)\n",
    "\n",
    "print dset[...]"
   ]
  },
  {
   "cell_type": "code",
   "execution_count": 6,
   "metadata": {
    "collapsed": false
   },
   "outputs": [
    {
     "name": "stdout",
     "output_type": "stream",
     "text": [
      "floats\n",
      "integers\n"
     ]
    }
   ],
   "source": [
    "for name in f: print name"
   ]
  },
  {
   "cell_type": "code",
   "execution_count": 7,
   "metadata": {
    "collapsed": false
   },
   "outputs": [
    {
     "name": "stdout",
     "output_type": "stream",
     "text": [
      "floats\n",
      "integers\n"
     ]
    }
   ],
   "source": [
    "f.close()\n",
    "\n",
    "o = h5py.File(\"h5py_test.hdf5\", \"r\")\n",
    "\n",
    "for name in o: print name"
   ]
  },
  {
   "cell_type": "code",
   "execution_count": 8,
   "metadata": {
    "collapsed": false
   },
   "outputs": [
    {
     "name": "stdout",
     "output_type": "stream",
     "text": [
      "[5 7 4 1 7 1 6 7 2 4 9 5 0 1 1 1 3 3 8 6 6 9 1 1 4 9 6 9 8 2 2 2 8 5 7 9 5\n",
      " 7 6 5 0 9 3 7 6 2 8 8 4 9 2 0 4 5 1 7 3 9 3 4 3 3 8 5 6 0 4 4 8 9 4 7 1 0\n",
      " 6 4 1 9 2 9 8 4 7 1 3 6 8 5 5 2 8 7 8 7 9 5 4 8 0 0]\n",
      "[ 0.56679457  0.37209648  0.34750098  0.85618246  0.15082587  0.40323839\n",
      "  0.34138358  0.25600278  0.59936416  0.03657122  0.68550497  0.51260823\n",
      "  0.35694665  0.43675604  0.77137071  0.91766381  0.91814971  0.46444732\n",
      "  0.81910759  0.72812629  0.20075174  0.37215182  0.957766    0.47339073\n",
      "  0.91799277  0.09943197  0.32643157  0.04007467  0.84630442  0.09612206\n",
      "  0.73970944  0.09048117  0.22065164  0.83212143  0.11776669  0.75757885\n",
      "  0.33096406  0.61065912  0.28889886  0.89264458  0.19888629  0.82382607\n",
      "  0.3016876   0.24525431  0.81562477  0.69584781  0.18184493  0.83030939\n",
      "  0.80080354  0.19113518]\n"
     ]
    }
   ],
   "source": [
    "ints = o['integers']\n",
    "floats = o['floats']\n",
    "\n",
    "print ints[...]\n",
    "print floats[...]"
   ]
  }
 ],
 "metadata": {
  "kernelspec": {
   "display_name": "Python 2",
   "language": "python",
   "name": "python2"
  },
  "language_info": {
   "codemirror_mode": {
    "name": "ipython",
    "version": 2
   },
   "file_extension": ".py",
   "mimetype": "text/x-python",
   "name": "python",
   "nbconvert_exporter": "python",
   "pygments_lexer": "ipython2",
   "version": "2.7.11"
  }
 },
 "nbformat": 4,
 "nbformat_minor": 0
}
