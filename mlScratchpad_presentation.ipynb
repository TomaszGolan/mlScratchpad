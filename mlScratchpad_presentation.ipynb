{
 "cells": [
  {
   "cell_type": "markdown",
   "metadata": {
    "slideshow": {
     "slide_type": "slide"
    }
   },
   "source": [
    "# Basic Introduction to Theano\n"
   ]
  },
  {
   "cell_type": "code",
   "execution_count": null,
   "metadata": {
    "collapsed": false,
    "slideshow": {
     "slide_type": "-"
    }
   },
   "outputs": [],
   "source": [
    "Tomasz Golan\n",
    "MLVF Meeting, 03.16.2016"
   ]
  },
  {
   "cell_type": "markdown",
   "metadata": {
    "slideshow": {
     "slide_type": "slide"
    }
   },
   "source": [
    "# Linear Regression"
   ]
  },
  {
   "cell_type": "markdown",
   "metadata": {
    "slideshow": {
     "slide_type": "subslide"
    }
   },
   "source": [
    "# Notation\n",
    "\n",
    "* Features: $x = (x_1, ..., x_n)$\n",
    "* Target: $y$\n",
    "* Training example: $(x^{(i)}, y^{(i)})$\n",
    "* Training set: $\\left\\{(x^{(i)}, y^{(i)}); i = 1, ..., N\\right\\}$\n",
    "* Weights: $w = (w_0, w_1, ..., w_n)$\n",
    "* For convenience: $x_0 = 1$\n",
    "* Hypothesis: $h (x) = w_0 + w_1x_1 + ... + w_nx_n = \\sum\\limits_{i = 0}^n w_i x_i = w^T x$"
   ]
  }
 ],
 "metadata": {
  "celltoolbar": "Slideshow",
  "kernelspec": {
   "display_name": "Python 2",
   "language": "python",
   "name": "python2"
  },
  "language_info": {
   "codemirror_mode": {
    "name": "ipython",
    "version": 2
   },
   "file_extension": ".py",
   "mimetype": "text/x-python",
   "name": "python",
   "nbconvert_exporter": "python",
   "pygments_lexer": "ipython2",
   "version": "2.7.6"
  }
 },
 "nbformat": 4,
 "nbformat_minor": 0
}
