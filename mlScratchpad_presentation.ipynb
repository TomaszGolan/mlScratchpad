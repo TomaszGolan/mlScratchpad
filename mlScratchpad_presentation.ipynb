{
 "cells": [
  {
   "cell_type": "markdown",
   "metadata": {
    "slideshow": {
     "slide_type": "slide"
    }
   },
   "source": [
    "# Introduction to Theano\n"
   ]
  },
  {
   "cell_type": "code",
   "execution_count": null,
   "metadata": {
    "collapsed": false,
    "slideshow": {
     "slide_type": "-"
    }
   },
   "outputs": [],
   "source": [
    "Tomasz Golan\n",
    "MLVF Meeting, 03.16.2016"
   ]
  },
  {
   "cell_type": "markdown",
   "metadata": {
    "slideshow": {
     "slide_type": "slide"
    }
   },
   "source": [
    "# Linear Regression"
   ]
  },
  {
   "cell_type": "markdown",
   "metadata": {
    "slideshow": {
     "slide_type": "subslide"
    }
   },
   "source": [
    "# Notation\n",
    "\n",
    "* Features: \n",
    "\n",
    "$$x = (x_1, ..., x_n)$$\n",
    "\n",
    "* Training example:\n",
    "\n",
    "$$(x^{(i)}, y^{(i)})$$\n",
    "\n",
    "* Training set:\n",
    "\n",
    "$$\\left\\{(x^{(i)}, y^{(i)}); i = 1, ..., N\\right\\}$$"
   ]
  },
  {
   "cell_type": "markdown",
   "metadata": {
    "slideshow": {
     "slide_type": "subslide"
    }
   },
   "source": [
    "# Notation\n",
    "\n",
    "* Weights:\n",
    "\n",
    "$$w = (w_0, w_1, ..., w_n)$$\n",
    "\n",
    "* For convenience:\n",
    "\n",
    "$$x_0 = 1$$\n",
    "\n",
    "* Hypothesis:\n",
    "\n",
    "$$h (x) = w_0 + w_1x_1 + ... + w_nx_n = \\sum\\limits_{i = 0}^n w_i x_i = w^T x$$"
   ]
  },
  {
   "cell_type": "markdown",
   "metadata": {
    "slideshow": {
     "slide_type": "subslide"
    }
   },
   "source": [
    "# Learning\n",
    "\n",
    "* Learning means finding $w$\n",
    "* Lets define cost function as:\n",
    "\n",
    "$$f(w) = \\frac{1}{2}\\sum\\limits_{i=1}^N\\left(h (x^{(i)}) - y^{(i)}\\right)^2$$\n",
    "\n",
    "* Minimum can be find using gradient descent method:\n",
    "\n",
    "$$w_j = w_j - \\alpha\\frac{\\partial f(w)}{\\partial w_j} = w_j + \\alpha\\sum\\limits_{i=1}^N\\left(y^{(i)} - h (x^{(i)})\\right)x_j$$\n",
    "\n",
    "* Where $\\alpha$ is learning rate"
   ]
  },
  {
   "cell_type": "markdown",
   "metadata": {
    "slideshow": {
     "slide_type": "subslide"
    }
   },
   "source": [
    "# Generate Samples"
   ]
  },
  {
   "cell_type": "code",
   "execution_count": 2,
   "metadata": {
    "collapsed": true,
    "slideshow": {
     "slide_type": "-"
    }
   },
   "outputs": [],
   "source": [
    "%matplotlib inline\n",
    "\n",
    "### IMPORTS ###\n",
    "\n",
    "import numpy\n",
    "import matplotlib.pyplot as plt\n",
    "\n",
    "rng = numpy.random # random number generator\n",
    "\n",
    "### SETTINGS ###\n",
    "\n",
    "N = 100 # number of samples\n",
    "\n",
    "a = 0.50 # slope\n",
    "b = 0.50 # y-intercept\n",
    "s = 0.25 # sigma\n",
    "\n",
    "### GENERATE SAMPLES ###\n",
    "\n",
    "X = (10.0 * rng.sample(N))                               # features\n",
    "Y = [(a * X[i] + b) + rng.normal(0,s) for i in range(N)] # targets"
   ]
  },
  {
   "cell_type": "markdown",
   "metadata": {
    "slideshow": {
     "slide_type": "subslide"
    }
   },
   "source": [
    "# Plot samples"
   ]
  },
  {
   "cell_type": "code",
   "execution_count": 3,
   "metadata": {
    "collapsed": false,
    "slideshow": {
     "slide_type": "-"
    }
   },
   "outputs": [
    {
     "data": {
      "image/png": "[encoded data removed]",
      "text/plain": [
       "<matplotlib.figure.Figure at 0x7fadb0d97cd0>"
      ]
     },
     "metadata": {},
     "output_type": "display_data"
    }
   ],
   "source": [
    "### PLOT SAMPLES ###\n",
    "\n",
    "plt.xlabel('Feature')\n",
    "plt.ylabel('Target')\n",
    "plt.plot(X, Y, '+')\n",
    "plt.text(12, 2, 'Dataset generated by:\\n\\n'\n",
    "                '$f(x) = %.2f \\cdot x + %.2f$\\n\\n'\n",
    "                'with a shift randomly chosen from'\n",
    "                'normal distribution with $\\sigma = %.2f$' \n",
    "                % (a, b, s), fontsize = 15)\n",
    "plt.show()"
   ]
  },
  {
   "cell_type": "markdown",
   "metadata": {
    "slideshow": {
     "slide_type": "subslide"
    }
   },
   "source": [
    "# Theano"
   ]
  },
  {
   "cell_type": "code",
   "execution_count": 11,
   "metadata": {
    "collapsed": true,
    "slideshow": {
     "slide_type": "-"
    }
   },
   "outputs": [],
   "source": [
    "import theano\n",
    "import theano.tensor as T\n",
    "\n",
    "nTrainSteps = 1000 # number of training steps\n",
    "alpha = 0.01 / N # learning rate\n",
    "\n",
    "### SYMBOLIC VARIABLES ###\n",
    "\n",
    "x = T.vector('x') # feature vector\n",
    "y = T.vector('y') # target vector\n",
    "\n",
    "w = theano.shared(rng.randn(), name = 'w') # random weights\n",
    "b = theano.shared(rng.randn(), name = 'b') # bias term (w_0)\n",
    "\n",
    "### EXPRESSION GRAPH ###\n",
    "\n",
    "prediction = T.dot(x, w) + b          # hyphothesis\n",
    "cost = T.sum(T.pow(prediction - y,2)) # cost function\n",
    "gw, gb = T.grad(cost, [w,b])          # gradients\n",
    "\n",
    "### COMPILE ###\n",
    "\n",
    "# update weights to minimize cost\n",
    "train = theano.function(inputs = [x,y],\n",
    "                        outputs = cost,\n",
    "                        updates = ((w, w - alpha * gw),\n",
    "                                   (b, b - alpha * gb)))"
   ]
  },
  {
   "cell_type": "markdown",
   "metadata": {
    "slideshow": {
     "slide_type": "subslide"
    }
   },
   "source": [
    "# Find weights"
   ]
  },
  {
   "cell_type": "code",
   "execution_count": 12,
   "metadata": {
    "collapsed": false,
    "slideshow": {
     "slide_type": "-"
    }
   },
   "outputs": [
    {
     "name": "stdout",
     "output_type": "stream",
     "text": [
      "f(x) = 0.50 * x + 0.47\n"
     ]
    }
   ],
   "source": [
    "### TRAIN ###\n",
    "\n",
    "costs = [] # value of cost function in each training step\n",
    "\n",
    "for i in range(nTrainSteps): costs.append(train(X, Y))\n",
    "    \n",
    "print \"f(x) = %.2f * x + %.2f\" % (w.get_value(), b.get_value())"
   ]
  },
  {
   "cell_type": "markdown",
   "metadata": {
    "slideshow": {
     "slide_type": "subslide"
    }
   },
   "source": [
    "# Plot results"
   ]
  },
  {
   "cell_type": "code",
   "execution_count": 13,
   "metadata": {
    "collapsed": false,
    "slideshow": {
     "slide_type": "-"
    }
   },
   "outputs": [],
   "source": [
    "def plotMe(): # just to fit on a slide\n",
    "    fig, plots = plt.subplots(1,2) # create a 1x2 grid of plots\n",
    "    # double horizontal size of figure\n",
    "    fig.set_size_inches((2, 1) * fig.get_size_inches()) \n",
    "\n",
    "    # first plot\n",
    "    plots[0].set_title('Reconstructed line: y = %.2f x + %.2f'\n",
    "                       % (w.get_value(), b.get_value()))\n",
    "    plots[0].set_xlabel('Feature')\n",
    "    plots[0].set_ylabel('Target')\n",
    "\n",
    "    u = numpy.arange(0, 10, 0.1)\n",
    "    plots[0].plot(u, w.get_value() * u + b.get_value(), 'r', X, Y, '+')\n",
    "\n",
    "    # second plot\n",
    "    plots[1].set_title('Training progress')\n",
    "    plots[1].set_xlabel('Training step')\n",
    "    plots[1].set_ylabel('Cost function')\n",
    "\n",
    "    plt.ylim([1, 100])\n",
    "    plots[1].set_yscale('log')\n",
    "\n",
    "    u = numpy.arange(0, nTrainSteps, 1)\n",
    "    plots[1].plot(u, costs, 'g,')\n",
    "\n",
    "    plt.show()"
   ]
  },
  {
   "cell_type": "markdown",
   "metadata": {
    "slideshow": {
     "slide_type": "subslide"
    }
   },
   "source": [
    "# Plot results"
   ]
  },
  {
   "cell_type": "code",
   "execution_count": 14,
   "metadata": {
    "collapsed": false,
    "slideshow": {
     "slide_type": "-"
    }
   },
   "outputs": [
    {
     "data": {
      "image/png": "[encoded data removed]",
      "text/plain": [
       "<matplotlib.figure.Figure at 0x7fad791fc990>"
      ]
     },
     "metadata": {},
     "output_type": "display_data"
    }
   ],
   "source": [
    "plotMe()"
   ]
  },
  {
   "cell_type": "markdown",
   "metadata": {
    "slideshow": {
     "slide_type": "slide"
    }
   },
   "source": [
    "# Logistic Regression"
   ]
  },
  {
   "cell_type": "markdown",
   "metadata": {
    "slideshow": {
     "slide_type": "subslide"
    }
   },
   "source": [
    "# Classification - linear vs logistic\n",
    "\n",
    "<img src=\"images/linlog.png\" width = \"100%\">"
   ]
  },
  {
   "cell_type": "markdown",
   "metadata": {
    "slideshow": {
     "slide_type": "subslide"
    }
   },
   "source": [
    "# Notation\n",
    "\n",
    "* Logistic function: \n",
    "\n",
    "$$g(z) = \\frac{1}{1 + e^{-z}}$$\n",
    "\n",
    "* Hypothesis: \n",
    "\n",
    "$$h (x) = g(w^Tx) = \\frac{1}{1 + e^{-w^Tx}}$$"
   ]
  },
  {
   "cell_type": "markdown",
   "metadata": {
    "slideshow": {
     "slide_type": "subslide"
    }
   },
   "source": [
    "# Notation\n",
    "\n",
    "* Probability of 1:\n",
    "\n",
    "$$P (y = 1 | x, w) = h(x)$$\n",
    "\n",
    "* Probability of 0:\n",
    "\n",
    "$$P (y = 0 | x, w) = 1 - h(x)$$\n",
    "\n",
    "* Probability:\n",
    "\n",
    "$$p (y | x, w) = (h(x))^y\\cdot(1 - h(x))^{1 - y}$$"
   ]
  },
  {
   "cell_type": "markdown",
   "metadata": {
    "slideshow": {
     "slide_type": "subslide"
    }
   },
   "source": [
    "# Likelihood\n",
    "\n",
    "* Likelihood: \n",
    "\n",
    "$$L(w) = p(y | X,w) = \\prod\\limits_{i = 1}^N p(y^{(i)} | x^{(i)}, w) = \\prod\\limits_{i=1}^N (h(x^{(i)}))^{y^{(i)}}\\cdot(1 - h(x^{(i)}))^{1 - y^{(i)}}$$\n",
    "\n",
    "* Log-likelihood:\n",
    "\n",
    "$$l(w) = \\log L(w) = \\sum\\limits_{i=1}^Ny^{(i)}\\log h(x^{(i)}) + (1 - y^{(i)})\\log (1-h(x^{(i)}))$$"
   ]
  },
  {
   "cell_type": "markdown",
   "metadata": {
    "slideshow": {
     "slide_type": "subslide"
    }
   },
   "source": [
    "# Learning\n",
    "\n",
    "* Gradient of logistic function:\n",
    "\n",
    "$$\\frac{dg(z)}{dz} = g(z)(1 - g(z))$$\n",
    "\n",
    "* Gradient of log-likehood:\n",
    "\n",
    "$$\\frac{\\partial l(w)}{\\partial w_j} = (y - h(x))\\cdot x_j$$"
   ]
  },
  {
   "cell_type": "markdown",
   "metadata": {
    "slideshow": {
     "slide_type": "subslide"
    }
   },
   "source": [
    "# Learning\n",
    "\n",
    "* Cost function:\n",
    "\n",
    "$$f(w) = -l(w)$$\n",
    "\n",
    "* Learning step (minimize $f(w)$):\n",
    "\n",
    "$$w_j = w_j - \\alpha\\frac{\\partial f(w)}{\\partial w_j}$$\n",
    "\n",
    "* Note, it is perceptron, when:\n",
    "\n",
    "$$g(z) = 1 \\text{ for } z \\geq 1 \\text{ or } 0 \\text{ for } z < 1$$"
   ]
  },
  {
   "cell_type": "markdown",
   "metadata": {
    "slideshow": {
     "slide_type": "subslide"
    }
   },
   "source": [
    "# Generate samples"
   ]
  },
  {
   "cell_type": "code",
   "execution_count": 15,
   "metadata": {
    "collapsed": true,
    "slideshow": {
     "slide_type": "-"
    }
   },
   "outputs": [],
   "source": [
    "%matplotlib inline\n",
    "\n",
    "### IMPORTS ###\n",
    "\n",
    "import numpy\n",
    "import matplotlib.pyplot as plt\n",
    "\n",
    "rng = numpy.random # random number generator\n",
    "\n",
    "### SETTINGS ###\n",
    "\n",
    "N = 1000 # number of samples\n",
    "n = 4    # number of features\n",
    "\n",
    "### FUNCTIONS ###\n",
    "\n",
    "def isInCircle (point): # returns 1 (0) if point is (not) in circle\n",
    "                        # (radius chosen so #inside ~ #outside)\n",
    "  return int (point[0] * point[0] + point[1] * point[1] < 2 / 3.14)\n",
    "\n",
    "### GENERATE SAMPLES ###\n",
    "\n",
    "randomPoints = (2.0 * rng.sample ((N, 2)) - 1) # [-1,1]x[-1,1]\n",
    "\n",
    "X = [[p[0], p[1], p[0]*p[0],p[1]*p[1]] for p in randomPoints]\n",
    "Y = [isInCircle(x) for x in randomPoints] # 1/0 -> inside/outside circle"
   ]
  },
  {
   "cell_type": "markdown",
   "metadata": {
    "slideshow": {
     "slide_type": "subslide"
    }
   },
   "source": [
    "\n",
    "# Plot samples"
   ]
  },
  {
   "cell_type": "code",
   "execution_count": 16,
   "metadata": {
    "collapsed": false,
    "slideshow": {
     "slide_type": "skip"
    }
   },
   "outputs": [],
   "source": [
    "def plotMe(): # just to fit on a slide\n",
    "    # separate points inside and outside circle\n",
    "    inside, outside = [], []\n",
    "\n",
    "    for i in range(N):\n",
    "        if Y[i]: inside.append(randomPoints[i])\n",
    "        else: outside.append(randomPoints[i])\n",
    "\n",
    "    # axis settings        \n",
    "    plt.xlabel('x1')\n",
    "    plt.ylabel('x2')\n",
    "    plt.xlim([-1, 1])\n",
    "    plt.ylim([-1, 1])\n",
    "\n",
    "    # plot samples\n",
    "\n",
    "    plt.scatter(*zip(*inside), marker = '+', color = 'r')\n",
    "    plt.scatter(*zip(*outside), marker = 'x', color = 'b')\n",
    "\n",
    "    plt.text(1.5, -1, 'Dataset:\\n\\n'\n",
    "                      'Points inside / outside circle'\n",
    "                      '$x^2 + y^2 = 2 / 3.14$\\n\\n'\n",
    "                      'No. of points inside  = %d\\n\\n'\n",
    "                      'No. of points outside = %d\\n\\n'\n",
    "                      % (len(inside), len(outside)), fontsize = 15)\n",
    "\n",
    "    plt.show()"
   ]
  },
  {
   "cell_type": "code",
   "execution_count": 17,
   "metadata": {
    "collapsed": false,
    "slideshow": {
     "slide_type": "-"
    }
   },
   "outputs": [
    {
     "data": {
      "image/png": "[encoded data removed]",
      "text/plain": [
       "<matplotlib.figure.Figure at 0x7fad78f99e10>"
      ]
     },
     "metadata": {},
     "output_type": "display_data"
    }
   ],
   "source": [
    "plotMe()"
   ]
  },
  {
   "cell_type": "markdown",
   "metadata": {
    "slideshow": {
     "slide_type": "subslide"
    }
   },
   "source": [
    "# Theano"
   ]
  },
  {
   "cell_type": "code",
   "execution_count": 18,
   "metadata": {
    "collapsed": true,
    "slideshow": {
     "slide_type": "-"
    }
   },
   "outputs": [],
   "source": [
    "import theano\n",
    "import theano.tensor as T\n",
    "\n",
    "nTrainSteps = 1000 # number of training steps\n",
    "alpha = 0.01 # learning rate\n",
    "\n",
    "### SYMBOLIC VARIABLES ###\n",
    "\n",
    "x = T.matrix('x') # feature vector\n",
    "y = T.vector('y') # target vector\n",
    "\n",
    "w = theano.shared(rng.randn(n), name = 'w') # n weights initialized randomly\n",
    "b = theano.shared(rng.randn(), name = 'b')  # bias term (w_0)\n",
    "\n",
    "### EXPRESSION GRAPH ###\n",
    "\n",
    "h = 1 / (1 + T.exp(-T.dot(x, w) - b))          # hypothesis\n",
    "prediction = h > 0.5                           # prediction threshold\n",
    "xent = - y * T.log(h) - (1 - y) * T.log(1 - h) # cross-entropy loss function\n",
    "cost = xent.sum()                              # cost function\n",
    "gw, gb = T.grad(cost, [w,b])                   # gradients\n",
    "\n",
    "### COMPILE ###\n",
    "\n",
    "train = theano.function(inputs = [x,y],\n",
    "                        outputs = cost,\n",
    "                        updates = ((w, w - alpha * gw),\n",
    "                                   (b, b - alpha * gb)))"
   ]
  },
  {
   "cell_type": "markdown",
   "metadata": {
    "slideshow": {
     "slide_type": "subslide"
    }
   },
   "source": [
    "# Find weights"
   ]
  },
  {
   "cell_type": "code",
   "execution_count": 19,
   "metadata": {
    "collapsed": false,
    "slideshow": {
     "slide_type": "-"
    }
   },
   "outputs": [
    {
     "name": "stdout",
     "output_type": "stream",
     "text": [
      "w = [ -0.15778745   0.19991422 -25.09642442 -25.05667537]\n",
      "b = 15.9232617172\n"
     ]
    }
   ],
   "source": [
    "### TRAIN ###\n",
    "\n",
    "costs = [] # value of cost function in each training step\n",
    "\n",
    "for i in range(nTrainSteps): costs.append(train(X, Y))\n",
    "    \n",
    "print \"w =\", w.get_value()\n",
    "print \"b =\", b.get_value()"
   ]
  },
  {
   "cell_type": "markdown",
   "metadata": {
    "slideshow": {
     "slide_type": "subslide"
    }
   },
   "source": [
    "# Plot results"
   ]
  },
  {
   "cell_type": "code",
   "execution_count": 20,
   "metadata": {
    "collapsed": true,
    "slideshow": {
     "slide_type": "skip"
    }
   },
   "outputs": [],
   "source": [
    "from mpl_toolkits.mplot3d import axes3d\n",
    "\n",
    "def plotMe():\n",
    "    # separate points inside and outside circle\n",
    "    inside, outside = [], []\n",
    "\n",
    "    for i in range(N):\n",
    "        if Y[i]: inside.append(randomPoints[i])\n",
    "        else: outside.append(randomPoints[i])\n",
    "            \n",
    "    fig = plt.figure()\n",
    "    fig.set_size_inches((2, 2) * fig.get_size_inches())\n",
    "\n",
    "    # hypothesis / probability\n",
    "\n",
    "    x1 = numpy.arange(-1, 1, 0.01)\n",
    "    x2 = numpy.arange(-1, 1, 0.01)\n",
    "    x1, x2 = numpy.meshgrid(x1, x2)\n",
    "\n",
    "    a = w.get_value() # calculated weights\n",
    "\n",
    "    h = 1 / (1 + numpy.exp(-a[0] * x1 - a[1] * x2 - a[2] * x1 * x1 - a[3] * x2 * x2 - b.get_value())) # h(x)\n",
    "\n",
    "    ax = fig.add_subplot(221, projection='3d')\n",
    "\n",
    "    ax.set_title('Probability')\n",
    "    ax.set_xlabel('x1')\n",
    "    ax.set_ylabel('x2')\n",
    "    ax.set_zlabel('h')\n",
    "\n",
    "    inside  = [[i[0], i[1], 0.5] for i in inside]  # add z-dimension to training points\n",
    "    outside = [[o[0], o[1], 0.5] for o in outside] # z = probability threshold\n",
    "\n",
    "    ax.plot_wireframe(x1, x2, h, rstride = 10, cstride = 10, color = 'g') # plot h(x)\n",
    "\n",
    "    ax.scatter(*zip(*outside), marker = 'x', color = 'b') # plot training points outside circle\n",
    "    ax.scatter(*zip(*inside),  marker = '+', color = 'r') # plot training points inside circle\n",
    "\n",
    "    # training progress\n",
    "\n",
    "    ax = fig.add_subplot(222)\n",
    "\n",
    "    ax.set_title('Training progress')\n",
    "    ax.set_xlabel('Training step')\n",
    "    ax.set_ylabel('Cost function')\n",
    "\n",
    "    steps = []\n",
    "    steps.extend(range(0,nTrainSteps))\n",
    "\n",
    "    plt.ylim([0, 200])\n",
    "    ax.plot(steps, costs, 'g,')\n",
    "\n",
    "    plt.show()"
   ]
  },
  {
   "cell_type": "code",
   "execution_count": 22,
   "metadata": {
    "collapsed": false,
    "slideshow": {
     "slide_type": "-"
    }
   },
   "outputs": [
    {
     "data": {
      "image/png": "[encoded data removed]",
      "text/plain": [
       "<matplotlib.figure.Figure at 0x7fad847cca90>"
      ]
     },
     "metadata": {},
     "output_type": "display_data"
    }
   ],
   "source": [
    "plotMe()"
   ]
  },
  {
   "cell_type": "markdown",
   "metadata": {
    "slideshow": {
     "slide_type": "subslide"
    }
   },
   "source": [
    "# Test"
   ]
  },
  {
   "cell_type": "code",
   "execution_count": 25,
   "metadata": {
    "collapsed": false,
    "slideshow": {
     "slide_type": "-"
    }
   },
   "outputs": [
    {
     "name": "stdout",
     "output_type": "stream",
     "text": [
      "Score =  0.996\n"
     ]
    }
   ],
   "source": [
    "### COMPILE THEANO FUNTION ###\n",
    "\n",
    "predict = theano.function(inputs = [x], outputs = prediction)\n",
    "\n",
    "### SETTINGS ###\n",
    "\n",
    "score = 0\n",
    "nTest = 1000 # number of testing samples\n",
    "\n",
    "### TESTING SAMPLES ###\n",
    "\n",
    "randomPoints = (2.0 * rng.sample ((nTest, 2)) - 1) # random points [-1,1]x[-1,1]\n",
    "\n",
    "testSample = [[p[0], p[1], p[0] * p[0], p[1] * p[1]] for p in randomPoints]\n",
    "\n",
    "### PREDICT AND CALCULATE SCORE ###\n",
    "\n",
    "result = predict (testSample) # predict inside / outside for testing sample\n",
    "\n",
    "for i in range(nTest):\n",
    "    if result[i] == isInCircle(randomPoints[i]): score += 1\n",
    "        \n",
    "print \"Score = \", 1.0 * score / nTest"
   ]
  },
  {
   "cell_type": "markdown",
   "metadata": {
    "slideshow": {
     "slide_type": "slide"
    }
   },
   "source": [
    "# First neural network - AND gate\n",
    "\n",
    "| x | y | x AND y|\n",
    "|:-:|:-:|:------:|\n",
    "| 0 | 0 | 0 |\n",
    "| 1 | 0 | 0 |\n",
    "| 0 | 1 | 0 |\n",
    "| 1 | 1 | 1 |"
   ]
  },
  {
   "cell_type": "markdown",
   "metadata": {
    "slideshow": {
     "slide_type": "subslide"
    }
   },
   "source": [
    "# Neural Network Scratch\n",
    "\n",
    "<center><img src=\"images/and.png\" width = \"50%\"></center>\n",
    "\n",
    "* Hypothesis = logistic function: $h(x) = \\frac{1}{1 + e^{-w^Tx}}$\n",
    "* Intuition: $w_0 < 0$, $w_0 + w_1 < 0$, $w_0 + w_2 < 0$, $w_0 + w_1 + w_2 > 0$"
   ]
  },
  {
   "cell_type": "markdown",
   "metadata": {
    "slideshow": {
     "slide_type": "subslide"
    }
   },
   "source": [
    "# Check intuition"
   ]
  },
  {
   "cell_type": "code",
   "execution_count": 34,
   "metadata": {
    "collapsed": false,
    "slideshow": {
     "slide_type": "-"
    }
   },
   "outputs": [
    {
     "name": "stdout",
     "output_type": "stream",
     "text": [
      "0 AND 0 = 0.000000\n",
      "0 AND 1 = 0.000000\n",
      "1 AND 0 = 0.000000\n",
      "1 AND 1 = 1.000000\n"
     ]
    }
   ],
   "source": [
    "from math import exp\n",
    "\n",
    "### BY HAND WEIGHTS ###\n",
    "\n",
    "w0 = -300\n",
    "w1 = 200\n",
    "w2 = 200\n",
    "\n",
    "### LOGISTIC FUNCTION ###\n",
    "\n",
    "def h(x1, x2):\n",
    "    return 1 / (1 + exp(-w0 - w1 * x1 - w2 * x2))\n",
    "\n",
    "### TRAINING SET ###\n",
    "\n",
    "X = [[0,0], [0,1], [1,0], [1,1]] # input\n",
    "Y = [0, 0, 0, 1]                 # expected output\n",
    "\n",
    "### TEST ###\n",
    "\n",
    "for x in X: print '%d AND %d = %f' % (x[0], x[1], h(x[0], x[1]))"
   ]
  },
  {
   "cell_type": "markdown",
   "metadata": {
    "slideshow": {
     "slide_type": "subslide"
    }
   },
   "source": [
    "# Prepare Theano"
   ]
  },
  {
   "cell_type": "code",
   "execution_count": 35,
   "metadata": {
    "collapsed": true,
    "slideshow": {
     "slide_type": "-"
    }
   },
   "outputs": [],
   "source": [
    "import theano\n",
    "import theano.tensor as T\n",
    "import theano.tensor.nnet as nnet\n",
    "import numpy\n",
    "\n",
    "rng = numpy.random # random number generator\n",
    "\n",
    "### SETTINGS ###\n",
    "\n",
    "nTrainSteps = 1000 # number of training steps\n",
    "alpha = 1.0 # learning rate\n",
    "\n",
    "### SYMBOLIC VARIABLES ###\n",
    "\n",
    "x = T.vector('x') # input\n",
    "y = T.scalar('y') # expected value\n",
    "\n",
    "w = theano.shared(rng.randn(2), name = 'w') # 2 weights initialized randomly\n",
    "b = theano.shared(rng.randn(), name = 'b')  # bias term (w_0)\n",
    "\n",
    "### EXPRESSION GRAPH ###\n",
    "\n",
    "layer1 = nnet.sigmoid(T.dot(x,w) + b) # input layer\n",
    "layer2 = T.sum(layer1)                # output layer\n",
    "cost = (layer2 - y)**2                # cost function\n",
    "gw, gb = T.grad(cost, [w,b])          # gradients"
   ]
  },
  {
   "cell_type": "markdown",
   "metadata": {
    "slideshow": {
     "slide_type": "subslide"
    }
   },
   "source": [
    "# Learn"
   ]
  },
  {
   "cell_type": "code",
   "execution_count": 36,
   "metadata": {
    "collapsed": false,
    "slideshow": {
     "slide_type": "-"
    }
   },
   "outputs": [],
   "source": [
    "### TRAIN ###\n",
    "\n",
    "train = theano.function(inputs = [x,y],\n",
    "                        outputs = cost,\n",
    "                        updates = ((w, w - alpha * gw),\n",
    "                                   (b, b - alpha * gb)))\n",
    "\n",
    "costs   = [] # value of cost function in each training step\n",
    "weights = [] # value of weights in each training step\n",
    "bias    = [] # value of bias term in each training step\n",
    "\n",
    "for i in range (nTrainSteps):\n",
    "    # train net using each element from X\n",
    "    for j in range(4): c = train(X[j], Y[j])\n",
    "    # save progress to plot them later\n",
    "    costs.append(c)\n",
    "    weights.append(w.get_value())\n",
    "    bias.append(b.get_value())"
   ]
  },
  {
   "cell_type": "markdown",
   "metadata": {
    "slideshow": {
     "slide_type": "subslide"
    }
   },
   "source": [
    "# Plot weights"
   ]
  },
  {
   "cell_type": "code",
   "execution_count": 37,
   "metadata": {
    "collapsed": true,
    "slideshow": {
     "slide_type": "skip"
    }
   },
   "outputs": [],
   "source": [
    "%matplotlib inline\n",
    "\n",
    "import matplotlib.pyplot as plt\n",
    "\n",
    "def plotMe():\n",
    "\n",
    "    ### PLOT RESULTS ###\n",
    "\n",
    "    fig, plots = plt.subplots(2,2) # create a 2x2 grid of plots\n",
    "    fig.set_size_inches((2, 2) * fig.get_size_inches()) # double size of figure\n",
    "\n",
    "    steps = [] # just ints from 0 to nTrainStep\n",
    "    steps.extend(range(0,nTrainSteps))\n",
    "\n",
    "    ### PLOT COST FUNCTION ###\n",
    "\n",
    "    plots[0][0].set_xlabel('Training step')\n",
    "    plots[0][0].set_ylabel('Cost function')\n",
    "\n",
    "    plots[0][0].set_ylim([0.0001, 0.1])\n",
    "    plots[0][0].set_yscale('log')\n",
    "    plots[0][0].plot(steps, costs, 'g,')\n",
    "\n",
    "    ### PLOT BIAS TERM ###\n",
    "\n",
    "    plots[0][1].set_xlabel('Training step')\n",
    "    plots[0][1].set_ylabel('w0')\n",
    "    plots[0][1].plot(steps, bias, 'r,')\n",
    "\n",
    "    ### PLOT WEIGHTS ###\n",
    "\n",
    "    w1 = [w[0] for w in weights]\n",
    "    w2 = [w[1] for w in weights]\n",
    "\n",
    "    plots[1][0].set_xlabel('Training step')\n",
    "    plots[1][0].set_ylabel('w1')\n",
    "    plots[1][0].plot(steps, w1, 'r,')\n",
    "\n",
    "    plots[1][1].set_xlabel('Training step')\n",
    "    plots[1][1].set_ylabel('w2')\n",
    "    plots[1][1].plot(steps, w2, 'r,')\n",
    "\n",
    "    plt.show()"
   ]
  },
  {
   "cell_type": "code",
   "execution_count": 38,
   "metadata": {
    "collapsed": false,
    "slideshow": {
     "slide_type": "-"
    }
   },
   "outputs": [
    {
     "data": {
      "image/png": "[encoded data removed]",
      "text/plain": [
       "<matplotlib.figure.Figure at 0x7f17f3be96d0>"
      ]
     },
     "metadata": {},
     "output_type": "display_data"
    }
   ],
   "source": [
    "plotMe()"
   ]
  },
  {
   "cell_type": "markdown",
   "metadata": {
    "slideshow": {
     "slide_type": "subslide"
    }
   },
   "source": [
    "# Test"
   ]
  },
  {
   "cell_type": "code",
   "execution_count": 39,
   "metadata": {
    "collapsed": false,
    "slideshow": {
     "slide_type": "-"
    }
   },
   "outputs": [
    {
     "name": "stdout",
     "output_type": "stream",
     "text": [
      "0 AND 0 = 0.000071\n",
      "0 AND 1 = 0.037623\n",
      "1 AND 0 = 0.037746\n",
      "1 AND 1 = 0.955776\n"
     ]
    }
   ],
   "source": [
    "### TEST ###        \n",
    "\n",
    "predict = theano.function(inputs=[x], outputs=layer2)\n",
    "\n",
    "for x in X: print '%d AND %d = %f' % (x[0], x[1], predict(x))"
   ]
  },
  {
   "cell_type": "markdown",
   "metadata": {
    "slideshow": {
     "slide_type": "slide"
    }
   },
   "source": [
    "# First non-linear NN - XOR gate\n",
    "\n",
    "| x | y | x XOR y|\n",
    "|:-:|:-:|:------:|\n",
    "| 0 | 0 | 0 |\n",
    "| 1 | 0 | 1 |\n",
    "| 0 | 1 | 1 |\n",
    "| 1 | 1 | 0 |"
   ]
  },
  {
   "cell_type": "markdown",
   "metadata": {
    "slideshow": {
     "slide_type": "subslide"
    }
   },
   "source": [
    "# AND & OR vs XOR"
   ]
  },
  {
   "cell_type": "markdown",
   "metadata": {
    "slideshow": {
     "slide_type": "subslide"
    }
   },
   "source": [
    "# Neural Network Scratch\n",
    "\n",
    "<center><img src=\"images/xor.png\" width = \"50%\"></center>\n",
    "\n",
    "* x XOR y = (x AND NOT y) OR (y AND NOT x)"
   ]
  },
  {
   "cell_type": "markdown",
   "metadata": {
    "slideshow": {
     "slide_type": "subslide"
    }
   },
   "source": [
    "# Imports and stuff "
   ]
  },
  {
   "cell_type": "code",
   "execution_count": 40,
   "metadata": {
    "collapsed": true,
    "slideshow": {
     "slide_type": "-"
    }
   },
   "outputs": [],
   "source": [
    "### IMPORTS ###\n",
    "\n",
    "import theano\n",
    "import theano.tensor as T\n",
    "import theano.tensor.nnet as nnet\n",
    "import numpy\n",
    "\n",
    "rng = numpy.random # random number generator\n",
    "\n",
    "### SETTINGS ###\n",
    "\n",
    "nTrainSteps = 10000 # number of training steps\n",
    "\n",
    "alpha = 0.1 # learning rate\n",
    "\n",
    "### TRAINING SET ###\n",
    "\n",
    "X = [[0,0], [0,1], [1,0], [1,1]] # input\n",
    "Y = [0, 1, 1, 0]                 # expected output"
   ]
  },
  {
   "cell_type": "markdown",
   "metadata": {
    "slideshow": {
     "slide_type": "subslide"
    }
   },
   "source": [
    "# Variables and layers"
   ]
  },
  {
   "cell_type": "code",
   "execution_count": 44,
   "metadata": {
    "collapsed": true,
    "slideshow": {
     "slide_type": "-"
    }
   },
   "outputs": [],
   "source": [
    "### SYMBOLIC VARIABLES ###\n",
    "\n",
    "x = T.vector('x') # input\n",
    "y = T.scalar('y') # expected value\n",
    "\n",
    "# first layer's weights (including bias)\n",
    "w1 = theano.shared(rng.rand(3,2), name = 'w') \n",
    "# second layer's weights (including bias)\n",
    "w2 = theano.shared(rng.rand(3), name = 'b')   \n",
    "\n",
    "### EXPRESSION GRAPH ###\n",
    "\n",
    "def layer (x, w):             # inputs, weights\n",
    "    b = numpy.array([1])      # bias term\n",
    "    xb = T.concatenate([x,b]) # input x with bias added\n",
    "    return nnet.sigmoid(T.dot(w.T, xb))\n",
    "\n",
    "hiddenLayer = layer (x, w1)                 # hidden layer\n",
    "outputLayer = T.sum(layer(hiddenLayer, w2)) # output layer\n",
    "cost = (outputLayer - y)**2                 # cost function\n",
    "\n",
    "def gradient (c, w):                 # cost function, weights\n",
    "    return w - alpha * T.grad (c, w) # update weights"
   ]
  },
  {
   "cell_type": "markdown",
   "metadata": {
    "slideshow": {
     "slide_type": "subslide"
    }
   },
   "source": [
    "# Compile, train and run"
   ]
  },
  {
   "cell_type": "code",
   "execution_count": 45,
   "metadata": {
    "collapsed": false,
    "slideshow": {
     "slide_type": "-"
    }
   },
   "outputs": [
    {
     "name": "stdout",
     "output_type": "stream",
     "text": [
      "0 XOR 0 = 0.033310\n",
      "0 XOR 1 = 0.970494\n",
      "1 XOR 0 = 0.970508\n",
      "1 XOR 1 = 0.031032\n"
     ]
    }
   ],
   "source": [
    "### COMPILE ###\n",
    "\n",
    "train = theano.function(inputs = [x,y],\n",
    "                        outputs = cost,\n",
    "                        updates = [(w1, gradient(cost, w1)),\n",
    "                                   (w2, gradient(cost, w2))])\n",
    "\n",
    "predict = theano.function(inputs=[x], outputs=outputLayer)\n",
    "\n",
    "### TRAIN ###\n",
    "\n",
    "for i in range (nTrainSteps):\n",
    "    # train net using each element from X\n",
    "    for j in range(4): c = train(X[j], Y[j])\n",
    "\n",
    "### TEST ###        \n",
    "        \n",
    "for x in X: print '%d XOR %d = %f' % (x[0], x[1], predict(x))"
   ]
  },
  {
   "cell_type": "code",
   "execution_count": 4,
   "metadata": {
    "collapsed": false,
    "slideshow": {
     "slide_type": "notes"
    }
   },
   "outputs": [
    {
     "data": {
      "text/html": [
       "\n",
       "\n",
       "<style>\n",
       "\n",
       ".rendered_html h1 {\n",
       "    color: #015C9C;\n",
       "    text-align: center;\n",
       "}\n",
       "\n",
       "</style>\n"
      ],
      "text/plain": [
       "<IPython.core.display.HTML object>"
      ]
     },
     "metadata": {},
     "output_type": "display_data"
    }
   ],
   "source": [
    "from IPython.display import display, HTML\n",
    "s = \"\"\"\n",
    "\n",
    "<style>\n",
    "\n",
    ".rendered_html h1 {\n",
    "    color: #015C9C;\n",
    "    text-align: center;\n",
    "}\n",
    "\n",
    "</style>\n",
    "\"\"\"\n",
    "display(HTML(s))"
   ]
  }
 ],
 "metadata": {
  "celltoolbar": "Slideshow",
  "kernelspec": {
   "display_name": "Python 2",
   "language": "python",
   "name": "python2"
  },
  "language_info": {
   "codemirror_mode": {
    "name": "ipython",
    "version": 2
   },
   "file_extension": ".py",
   "mimetype": "text/x-python",
   "name": "python",
   "nbconvert_exporter": "python",
   "pygments_lexer": "ipython2",
   "version": "2.7.6"
  }
 },
 "nbformat": 4,
 "nbformat_minor": 0
}
