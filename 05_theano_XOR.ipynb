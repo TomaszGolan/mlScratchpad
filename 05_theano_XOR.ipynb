{
 "cells": [
  {
   "cell_type": "markdown",
   "metadata": {},
   "source": [
    "# <center> XOR gate </center>\n",
    "\n",
    "| x | y | x XOR y|\n",
    "|:-:|:-:|:------:|\n",
    "| 0 | 0 | 0 |\n",
    "| 1 | 0 | 1 |\n",
    "| 0 | 1 | 1 |\n",
    "| 1 | 1 | 0 |\n",
    "\n",
    "## Neural Network Scratch\n",
    "\n",
    "<img src=\"images/xor.png\" width = \"50%\">\n",
    "\n",
    "* x XOR y = (x AND NOT y) OR (y AND NOT x) -> it is time to add hidden layer\n",
    "\n",
    "## Build network in Theano"
   ]
  },
  {
   "cell_type": "code",
   "execution_count": 148,
   "metadata": {
    "collapsed": false
   },
   "outputs": [
    {
     "name": "stdout",
     "output_type": "stream",
     "text": [
      "0 XOR 0 = 0.033205\n",
      "0 XOR 1 = 0.970643\n",
      "1 XOR 0 = 0.970794\n",
      "1 XOR 1 = 0.030759\n"
     ]
    }
   ],
   "source": [
    "### IMPORTS ###\n",
    "\n",
    "import theano\n",
    "import theano.tensor as T\n",
    "import theano.tensor.nnet as nnet\n",
    "import numpy\n",
    "\n",
    "rng = numpy.random # random number generator\n",
    "\n",
    "### SETTINGS ###\n",
    "\n",
    "nTrainSteps = 10000 # number of training steps\n",
    "\n",
    "alpha = 0.1 # learning rate\n",
    "\n",
    "### TRAINING SET ###\n",
    "\n",
    "X = [[0,0], [0,1], [1,0], [1,1]] # input\n",
    "Y = [0, 1, 1, 0]                 # expected output\n",
    "\n",
    "### SYMBOLIC VARIABLES ###\n",
    "\n",
    "x = T.vector('x') # input\n",
    "y = T.scalar('y') # expected value\n",
    "\n",
    "w1 = theano.shared(rng.rand(3,2), name = 'w') # first layer's weights (including bias)\n",
    "w2 = theano.shared(rng.rand(3), name = 'b')   # second layer's weights (including bias)\n",
    "\n",
    "### EXPRESSION GRAPH ###\n",
    "\n",
    "def layer (x, w):             # inputs, weights\n",
    "    b = numpy.array([1])      # bias term\n",
    "    xb = T.concatenate([x,b]) # input x with bias added\n",
    "    return nnet.sigmoid(T.dot(w.T, xb))\n",
    "\n",
    "hiddenLayer = layer (x, w1)                 # hidden layer\n",
    "outputLayer = T.sum(layer(hiddenLayer, w2)) # output layer\n",
    "cost = (outputLayer - y)**2                 # cost function\n",
    "\n",
    "def gradient (c, w):                    # cost function, weights\n",
    "    return w - alpha * T.grad (c, w) # update weights\n",
    "\n",
    "### COMPILE ###\n",
    "\n",
    "train = theano.function(inputs = [x,y],\n",
    "                        outputs = cost,\n",
    "                        updates = [(w1, gradient(cost, w1)),\n",
    "                                   (w2, gradient(cost, w2))])\n",
    "\n",
    "predict = theano.function(inputs=[x], outputs=outputLayer)\n",
    "\n",
    "### TRAIN ###\n",
    "\n",
    "for i in range (nTrainSteps):\n",
    "    # train net using each element from X\n",
    "    for j in range(4): c = train(X[j], Y[j])\n",
    "\n",
    "### TEST ###        \n",
    "        \n",
    "for x in X: print '%d XOR %d = %f' % (x[0], x[1], predict(x))"
   ]
  }
 ],
 "metadata": {
  "kernelspec": {
   "display_name": "Python 2",
   "language": "python",
   "name": "python2"
  },
  "language_info": {
   "codemirror_mode": {
    "name": "ipython",
    "version": 2
   },
   "file_extension": ".py",
   "mimetype": "text/x-python",
   "name": "python",
   "nbconvert_exporter": "python",
   "pygments_lexer": "ipython2",
   "version": "2.7.6"
  }
 },
 "nbformat": 4,
 "nbformat_minor": 0
}
